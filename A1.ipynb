{
 "cells": [
  {
   "cell_type": "code",
   "execution_count": 1,
   "metadata": {},
   "outputs": [
    {
     "name": "stdout",
     "output_type": "stream",
     "text": [
      "Overwriting main.py\n"
     ]
    }
   ],
   "source": [
    "%%file main.py\n",
    "import numpy as np\n",
    "import matplotlib.pyplot as plt\n",
    "\n",
    "symbols = {1:'x', -1:'o', 0:' '}\n",
    "\n",
    "def analyze_moves_of_a_game(list_of_lines, winner): # winner: -1 if o wins, 1 if x wins\n",
    "    array = np.zeros((3,3), dtype=int)\n",
    "    num_of_moves = 0\n",
    "    \n",
    "    # only need to see the last array \n",
    "    length_of_list = len(list_of_lines)\n",
    "    for i in xrange(3,0,-1):\n",
    "        elements = list_of_lines[length_of_list-i].split(\"'\")\n",
    "        for j in xrange(0,3):\n",
    "            if (elements[(2*j)+1] == symbols[winner]):\n",
    "                array[3-i][j] += 1\n",
    "                num_of_moves += 1\n",
    "    \n",
    "    return array, num_of_moves\n",
    "\n",
    "if __name__ == '__main__':\n",
    "    \n",
    "    with open('./log/game_log.txt', 'r') as f:\n",
    "        # count the positions of moves player o and x take\n",
    "        o_statistics = np.zeros((3,3), dtype=int)\n",
    "        x_statistics = np.zeros((3,3), dtype=int)\n",
    "        \n",
    "        o_win = 0\n",
    "        x_win = 0\n",
    "        num_of_draw = 0\n",
    "        num_of_games = 0\n",
    "        \n",
    "        lines_in_a_game = []\n",
    "        sum_of_moves = [0, 0]\n",
    "        for line in f:\n",
    "            words = line.split(' ')\n",
    "            if (words[0] == 'player'): # game over and there's a winner\n",
    "                num_of_games += 1\n",
    "                if (words[1] == 'o'):\n",
    "                    o_win += 1\n",
    "                    o_moves_array, num_of_o_moves = analyze_moves_of_a_game(lines_in_a_game, -1)\n",
    "                    o_statistics += o_moves_array\n",
    "                    sum_of_moves[0] += num_of_o_moves\n",
    "                elif (words[1] == 'x'):\n",
    "                    x_win += 1\n",
    "                    x_moves_array, num_of_x_moves = analyze_moves_of_a_game(lines_in_a_game, 1)\n",
    "                    x_statistics += x_moves_array\n",
    "                    sum_of_moves[1] += num_of_x_moves                \n",
    "                else:\n",
    "                    print \"Unknown format:\", line\n",
    "                    exit(1)\n",
    "                    \n",
    "                lines_in_a_game = []\n",
    "                \n",
    "            elif (words[0] == 'game'): # game over in a draw\n",
    "                num_of_games += 1\n",
    "                num_of_draw += 1\n",
    "                lines_in_a_game = []\n",
    "            else: # game still on\n",
    "                lines_in_a_game.append(line)\n",
    "                \n",
    "    x_probability = np.divide(x_statistics, float(sum_of_moves[1]))\n",
    "    o_probability = np.divide(o_statistics, float(sum_of_moves[0]))\n",
    "    \n",
    "    print \"Num of games:\", num_of_games, \"\\nNum of draw:\", num_of_draw, \"\\nO wins\", o_win, \"\\nX wins\", x_win \n",
    "    print \"\\no statistics:\\n\", o_statistics, \"\\n\", np.divide(o_statistics, float(sum_of_moves[0]))\n",
    "    print \"\\nx statistics:\\n\", x_statistics, \"\\n\", np.divide(x_statistics, float(sum_of_moves[1])) \n",
    "    \n",
    "    ## plot the result\n",
    "    values = []\n",
    "    values.extend((x_win, o_win, num_of_draw))\n",
    "    ind = np.arange(3)\n",
    "    fig, ax = plt.subplots()\n",
    "    ax.bar(ind, values, 0.3, align='center')\n",
    "    plt.xticks(ind, ('x wins', 'o wins', 'draw'))\n",
    "    plt.ylabel('games')\n",
    "    plt.ylim(0,6500)\n",
    "    for i in range(3):\n",
    "        plt.text(x = ind[i]-0.15, y = values[i]+100, s = str(values[i]), size=12)\n",
    "    plt.show()\n",
    "    \n",
    "    np.savetxt(\"./prob/x_prob.txt\", x_probability)\n",
    "    np.savetxt(\"./prob/o_prob.txt\", o_probability)          "
   ]
  },
  {
   "cell_type": "code",
   "execution_count": 159,
   "metadata": {},
   "outputs": [
    {
     "name": "stdout",
     "output_type": "stream",
     "text": [
      "Overwriting write_log_file.py\n"
     ]
    }
   ],
   "source": [
    "%%file write_log_file.py\n",
    "import sys\n",
    "import subprocess\n",
    "\n",
    "def parse_arguments():\n",
    "    length_of_argv = len(sys.argv)\n",
    "    if length_of_argv > 3:\n",
    "        print \"Usage: python write_log_file.py [-m] <NumberOfGamePlays=1000> \"\n",
    "        exit(1)\n",
    "    elif length_of_argv == 3:\n",
    "        return sys.argv[1], int(sys.argv[2])\n",
    "    elif length_of_argv == 2:\n",
    "        if sys.argv[1] == \"-m\":\n",
    "            return \"-m\", 1000\n",
    "        else:\n",
    "            return \"\", int(sys.argv[1])\n",
    "    else:\n",
    "        return \"\", 1000\n",
    "\n",
    "if __name__ == '__main__':\n",
    "    version_of_game, number_of_games = parse_arguments()\n",
    "    file_name = \"./log/game_log.txt\"\n",
    "    py_script = \"tic-tac-toe.py\"\n",
    "    if (version_of_game == \"-m\"):\n",
    "        file_name = \"./log/m_game_log.txt\"\n",
    "        py_script = \"m_tic_tac_toe.py\"\n",
    "    \n",
    "    with open(file_name, 'w') as f:\n",
    "        for i in xrange(0, number_of_games):\n",
    "            subprocess.call([\"python\", py_script], stdout=f)"
   ]
  },
  {
   "cell_type": "code",
   "execution_count": 165,
   "metadata": {},
   "outputs": [
    {
     "data": {
      "text/plain": [
       "[]"
      ]
     },
     "execution_count": 165,
     "metadata": {},
     "output_type": "execute_result"
    }
   ],
   "source": [
    "%%! \n",
    "python write_log_file.py -m 10000"
   ]
  },
  {
   "cell_type": "markdown",
   "metadata": {},
   "source": [
    "# Probabilistic Strategy for Tic Tac Toe\n",
    "\n",
    "implement a probabilistic strategy for Tic Tac Toe\n",
    "\n",
    "## Usage\n",
    "\n",
    "### running tic-tac-toe.py and m_tic_tac_toe.py\n",
    "\n",
    "tic-tac-toe.py is the original version, making a move uniformly at random. But in m_tic_tac_toe.py, we make a move according to the probabilities we obtain from running tic-tac-toe.py\n",
    "\n",
    "To run them, use \n",
    "```\n",
    "    python tic-tac-toe.py\n",
    "    python m_tic_tac_toe.py\n",
    "```\n",
    "\n",
    "\n",
    "### running write_log_file.py\n",
    "\n",
    "write_log_file.py is used to write the log of entire tournament to an output file. You can also specify the number of game plays in this tournament and the tic-tac-toe version in the command line. \n",
    "\n",
    "To run it, use\n",
    "```\n",
    "    python write_log_file.py [-m] <NumberOfGamePlays=1000> \n",
    "    \n",
    "    optional argument:\n",
    "        -m : run the modified version of tic tac toe\n",
    "```\n",
    "And the output file will be put in ./log/ folder and named game_log.txt (or m_game_log.txt) and , depending on which version of tic tac toe you use. \n",
    "\n",
    "### running main.py\n",
    "\n",
    "main.py analyzes the game_log.txt (or m_game_log.txt) and further creates a statistic of auspicious positions on the tic tac toe board. At last, the normalized statistic data is saved in the output file.\n",
    "\n",
    "To run main.py, use\n",
    "```\n",
    "    python main.py \n",
    "```\n",
    "To store the normalized statistic data of player x and player o, two output files, x_prob.txt and o_prob.txt, will be created inside ./prob/ folder. "
   ]
  },
  {
   "cell_type": "code",
   "execution_count": 166,
   "metadata": {},
   "outputs": [
    {
     "name": "stdout",
     "output_type": "stream",
     "text": [
      "Num of games: 10000 \n",
      "Num of draw: 1252 \n",
      "O wins 2734 \n",
      "X wins 6014\n",
      "\n",
      "o statistics:\n",
      "[[1249  928 1218]\n",
      " [ 887 1487  915]\n",
      " [1222  910 1254]] \n",
      "[[ 0.12403178  0.09215492  0.12095333]\n",
      " [ 0.08808342  0.14766634  0.09086395]\n",
      " [ 0.12135055  0.09036743  0.1245283 ]]\n",
      "\n",
      "x statistics:\n",
      "[[3102 2203 3073]\n",
      " [2286 3922 2221]\n",
      " [3064 2298 3039]] \n",
      "[[ 0.12305617  0.08739289  0.12190574]\n",
      " [ 0.0906855   0.15558553  0.08810695]\n",
      " [ 0.12154871  0.09116154  0.12055697]]\n"
     ]
    }
   ],
   "source": [
    "import numpy as np\n",
    "\n",
    "symbols = {1:'x', -1:'o', 0:' '}\n",
    "\n",
    "def analyze_moves_of_a_game(list_of_lines, winner): # winner: -1 if o wins, 1 if x wins\n",
    "    array = np.zeros((3,3), dtype=int)\n",
    "    num_of_moves = 0\n",
    "    \n",
    "    # only need to see the last array \n",
    "    length_of_list = len(list_of_lines)\n",
    "    for i in xrange(3,0,-1):\n",
    "        elements = list_of_lines[length_of_list-i].split(\"'\")\n",
    "        for j in xrange(0,3):\n",
    "            if (elements[(2*j)+1] == symbols[winner]):\n",
    "                array[3-i][j] += 1\n",
    "                num_of_moves += 1\n",
    "    \n",
    "    return array, num_of_moves\n",
    "\n",
    "if __name__ == '__main__':\n",
    "    \n",
    "    with open('./log/m_game_log.txt', 'r') as f:\n",
    "        # count the moves player o and x take\n",
    "        o_statistics = np.zeros((3,3), dtype=int)\n",
    "        x_statistics = np.zeros((3,3), dtype=int)\n",
    "        \n",
    "        o_win = 0\n",
    "        x_win = 0\n",
    "        num_of_draw = 0\n",
    "        num_of_games = 0\n",
    "        \n",
    "        lines_in_a_game = []\n",
    "        sum_of_moves = [0, 0]\n",
    "        for line in f:\n",
    "            words = line.split(' ')\n",
    "            if (words[0] == 'player'): # game over and there's a winner\n",
    "                num_of_games += 1\n",
    "                if (words[1] == 'o'):\n",
    "                    o_win += 1\n",
    "                    o_moves_array, num_of_o_moves = analyze_moves_of_a_game(lines_in_a_game, -1)\n",
    "                    o_statistics += o_moves_array\n",
    "                    sum_of_moves[0] += num_of_o_moves\n",
    "                elif (words[1] == 'x'):\n",
    "                    x_win += 1\n",
    "                    x_moves_array, num_of_x_moves = analyze_moves_of_a_game(lines_in_a_game, 1)\n",
    "                    x_statistics += x_moves_array\n",
    "                    sum_of_moves[1] += num_of_x_moves                \n",
    "                else:\n",
    "                    print \"Unknown format:\", line\n",
    "                    exit(1)\n",
    "                    \n",
    "                lines_in_a_game = []\n",
    "                \n",
    "            elif (words[0] == 'game'): # game over in a draw\n",
    "                num_of_games += 1\n",
    "                num_of_draw += 1\n",
    "                lines_in_a_game = []\n",
    "            else: # game still on\n",
    "                lines_in_a_game.append(line)\n",
    "                \n",
    "    x_probability = np.divide(x_statistics, float(sum_of_moves[1]))\n",
    "    o_probability = np.divide(o_statistics, float(sum_of_moves[0]))\n",
    "    \n",
    "    print \"Num of games:\", num_of_games, \"\\nNum of draw:\", num_of_draw, \"\\nO wins\", o_win, \"\\nX wins\", x_win \n",
    "    print \"\\no statistics:\\n\", o_statistics, \"\\n\", np.divide(o_statistics, float(sum_of_moves[0]))\n",
    "    print \"\\nx statistics:\\n\", x_statistics, \"\\n\", np.divide(x_statistics, float(sum_of_moves[1]))              "
   ]
  },
  {
   "cell_type": "code",
   "execution_count": 190,
   "metadata": {},
   "outputs": [
    {
     "data": {
      "text/plain": [
       "array([0, 1, 2])"
      ]
     },
     "execution_count": 190,
     "metadata": {},
     "output_type": "execute_result"
    }
   ],
   "source": [
    "ind"
   ]
  },
  {
   "cell_type": "code",
   "execution_count": null,
   "metadata": {
    "collapsed": true
   },
   "outputs": [],
   "source": []
  }
 ],
 "metadata": {
  "kernelspec": {
   "display_name": "Python 2",
   "language": "python",
   "name": "python2"
  },
  "language_info": {
   "codemirror_mode": {
    "name": "ipython",
    "version": 2
   },
   "file_extension": ".py",
   "mimetype": "text/x-python",
   "name": "python",
   "nbconvert_exporter": "python",
   "pygments_lexer": "ipython2",
   "version": "2.7.15"
  }
 },
 "nbformat": 4,
 "nbformat_minor": 2
}
